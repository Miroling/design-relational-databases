{
 "cells": [
  {
   "cell_type": "markdown",
   "id": "dead36fe",
   "metadata": {},
   "source": [
    "# SQL запити"
   ]
  },
  {
   "cell_type": "code",
   "execution_count": 1,
   "id": "15523ad1",
   "metadata": {},
   "outputs": [
    {
     "data": {
      "text/html": [
       "<span style=\"None\">Connecting to &#x27;mysql://root@localhost&#x27;</span>"
      ],
      "text/plain": [
       "Connecting to 'mysql://root@localhost'"
      ]
     },
     "metadata": {},
     "output_type": "display_data"
    }
   ],
   "source": [
    "%load_ext sql\n",
    "%sql mysql://root@localhost"
   ]
  },
  {
   "cell_type": "code",
   "execution_count": 2,
   "id": "d299b808-da24-4c6c-9f8c-d59d199b9881",
   "metadata": {
    "editable": true,
    "slideshow": {
     "slide_type": ""
    },
    "tags": []
   },
   "outputs": [
    {
     "data": {
      "text/html": [
       "<span style=\"None\">Running query in &#x27;mysql://root@localhost&#x27;</span>"
      ],
      "text/plain": [
       "Running query in 'mysql://root@localhost'"
      ]
     },
     "metadata": {},
     "output_type": "display_data"
    },
    {
     "data": {
      "text/html": [
       "<span style=\"color: green\">4 rows affected.</span>"
      ],
      "text/plain": [
       "4 rows affected."
      ]
     },
     "metadata": {},
     "output_type": "display_data"
    },
    {
     "data": {
      "text/html": [
       "<table>\n",
       "    <thead>\n",
       "        <tr>\n",
       "        </tr>\n",
       "    </thead>\n",
       "    <tbody>\n",
       "    </tbody>\n",
       "</table>"
      ],
      "text/plain": [
       "++\n",
       "||\n",
       "++\n",
       "++"
      ]
     },
     "execution_count": 2,
     "metadata": {},
     "output_type": "execute_result"
    }
   ],
   "source": [
    "%%sql \n",
    "DROP DATABASE IF EXISTS test;"
   ]
  },
  {
   "cell_type": "code",
   "execution_count": 3,
   "id": "0ae0bc9f",
   "metadata": {},
   "outputs": [
    {
     "data": {
      "text/html": [
       "<span style=\"None\">Running query in &#x27;mysql://root@localhost&#x27;</span>"
      ],
      "text/plain": [
       "Running query in 'mysql://root@localhost'"
      ]
     },
     "metadata": {},
     "output_type": "display_data"
    },
    {
     "data": {
      "text/html": [
       "<span style=\"color: green\">4 rows affected.</span>"
      ],
      "text/plain": [
       "4 rows affected."
      ]
     },
     "metadata": {},
     "output_type": "display_data"
    },
    {
     "data": {
      "text/html": [
       "<table>\n",
       "    <thead>\n",
       "        <tr>\n",
       "            <th>Database</th>\n",
       "        </tr>\n",
       "    </thead>\n",
       "    <tbody>\n",
       "        <tr>\n",
       "            <td>information_schema</td>\n",
       "        </tr>\n",
       "        <tr>\n",
       "            <td>mysql</td>\n",
       "        </tr>\n",
       "        <tr>\n",
       "            <td>performance_schema</td>\n",
       "        </tr>\n",
       "        <tr>\n",
       "            <td>sys</td>\n",
       "        </tr>\n",
       "    </tbody>\n",
       "</table>"
      ],
      "text/plain": [
       "+--------------------+\n",
       "|      Database      |\n",
       "+--------------------+\n",
       "| information_schema |\n",
       "|       mysql        |\n",
       "| performance_schema |\n",
       "|        sys         |\n",
       "+--------------------+"
      ]
     },
     "execution_count": 3,
     "metadata": {},
     "output_type": "execute_result"
    }
   ],
   "source": [
    "# | label: database-list-before-create\n",
    "%sql SHOW DATABASES;"
   ]
  },
  {
   "cell_type": "code",
   "execution_count": 4,
   "id": "02652474",
   "metadata": {},
   "outputs": [
    {
     "data": {
      "text/html": [
       "<span style=\"None\">Running query in &#x27;mysql://root@localhost&#x27;</span>"
      ],
      "text/plain": [
       "Running query in 'mysql://root@localhost'"
      ]
     },
     "metadata": {},
     "output_type": "display_data"
    },
    {
     "data": {
      "text/html": [
       "<span style=\"color: green\">1 rows affected.</span>"
      ],
      "text/plain": [
       "1 rows affected."
      ]
     },
     "metadata": {},
     "output_type": "display_data"
    },
    {
     "data": {
      "text/html": [
       "<table>\n",
       "    <thead>\n",
       "        <tr>\n",
       "        </tr>\n",
       "    </thead>\n",
       "    <tbody>\n",
       "    </tbody>\n",
       "</table>"
      ],
      "text/plain": [
       "++\n",
       "||\n",
       "++\n",
       "++"
      ]
     },
     "execution_count": 4,
     "metadata": {},
     "output_type": "execute_result"
    }
   ],
   "source": [
    "# | label: database-create\n",
    "%sql CREATE DATABASE test;"
   ]
  },
  {
   "cell_type": "code",
   "execution_count": 5,
   "id": "60338d89",
   "metadata": {},
   "outputs": [
    {
     "data": {
      "text/html": [
       "<span style=\"None\">Running query in &#x27;mysql://root@localhost&#x27;</span>"
      ],
      "text/plain": [
       "Running query in 'mysql://root@localhost'"
      ]
     },
     "metadata": {},
     "output_type": "display_data"
    },
    {
     "data": {
      "text/html": [
       "<span style=\"color: green\">5 rows affected.</span>"
      ],
      "text/plain": [
       "5 rows affected."
      ]
     },
     "metadata": {},
     "output_type": "display_data"
    },
    {
     "data": {
      "text/html": [
       "<table>\n",
       "    <thead>\n",
       "        <tr>\n",
       "            <th>Database</th>\n",
       "        </tr>\n",
       "    </thead>\n",
       "    <tbody>\n",
       "        <tr>\n",
       "            <td>information_schema</td>\n",
       "        </tr>\n",
       "        <tr>\n",
       "            <td>mysql</td>\n",
       "        </tr>\n",
       "        <tr>\n",
       "            <td>performance_schema</td>\n",
       "        </tr>\n",
       "        <tr>\n",
       "            <td>sys</td>\n",
       "        </tr>\n",
       "        <tr>\n",
       "            <td>test</td>\n",
       "        </tr>\n",
       "    </tbody>\n",
       "</table>"
      ],
      "text/plain": [
       "+--------------------+\n",
       "|      Database      |\n",
       "+--------------------+\n",
       "| information_schema |\n",
       "|       mysql        |\n",
       "| performance_schema |\n",
       "|        sys         |\n",
       "|        test        |\n",
       "+--------------------+"
      ]
     },
     "execution_count": 5,
     "metadata": {},
     "output_type": "execute_result"
    }
   ],
   "source": [
    "# | label: database-list-after-create\n",
    "%sql SHOW DATABASES;"
   ]
  },
  {
   "cell_type": "code",
   "execution_count": 6,
   "id": "0efa88bc",
   "metadata": {},
   "outputs": [
    {
     "data": {
      "text/html": [
       "<span style=\"None\">Connecting and switching to connection &#x27;mysql://root@localhost/test&#x27;</span>"
      ],
      "text/plain": [
       "Connecting and switching to connection 'mysql://root@localhost/test'"
      ]
     },
     "metadata": {},
     "output_type": "display_data"
    }
   ],
   "source": [
    "%sql mysql://root@localhost/test"
   ]
  },
  {
   "cell_type": "code",
   "execution_count": 7,
   "id": "0cf40cd9-7fdb-4e1f-b83a-9aa1460559e2",
   "metadata": {
    "label": "user-table-create",
    "scrolled": true
   },
   "outputs": [
    {
     "data": {
      "text/html": [
       "<span style=\"None\">Running query in &#x27;mysql://root@localhost/test&#x27;</span>"
      ],
      "text/plain": [
       "Running query in 'mysql://root@localhost/test'"
      ]
     },
     "metadata": {},
     "output_type": "display_data"
    },
    {
     "data": {
      "text/html": [
       "<table>\n",
       "    <thead>\n",
       "        <tr>\n",
       "        </tr>\n",
       "    </thead>\n",
       "    <tbody>\n",
       "    </tbody>\n",
       "</table>"
      ],
      "text/plain": [
       "++\n",
       "||\n",
       "++\n",
       "++"
      ]
     },
     "execution_count": 7,
     "metadata": {},
     "output_type": "execute_result"
    }
   ],
   "source": [
    "%%sql \n",
    "CREATE TABLE `books` (\n",
    "    `id` int NOT NULL AUTO_INCREMENT,\n",
    "    `category_id` int DEFAULT NULL,\n",
    "    `title` text,\n",
    "    `year` smallint DEFAULT NULL,\n",
    "    PRIMARY KEY (`id`)\n",
    ");\n"
   ]
  },
  {
   "cell_type": "code",
   "execution_count": 8,
   "id": "b47699fc",
   "metadata": {
    "label": "other-table-create"
   },
   "outputs": [
    {
     "data": {
      "text/html": [
       "<span style=\"None\">Running query in &#x27;mysql://root@localhost/test&#x27;</span>"
      ],
      "text/plain": [
       "Running query in 'mysql://root@localhost/test'"
      ]
     },
     "metadata": {},
     "output_type": "display_data"
    },
    {
     "data": {
      "text/html": [
       "<table>\n",
       "    <thead>\n",
       "        <tr>\n",
       "        </tr>\n",
       "    </thead>\n",
       "    <tbody>\n",
       "    </tbody>\n",
       "</table>"
      ],
      "text/plain": [
       "++\n",
       "||\n",
       "++\n",
       "++"
      ]
     },
     "execution_count": 8,
     "metadata": {},
     "output_type": "execute_result"
    }
   ],
   "source": [
    "%%sql\n",
    "\n",
    "CREATE TABLE `authors` (\n",
    "    `id` int NOT NULL AUTO_INCREMENT,\n",
    "    `name` text,\n",
    "    PRIMARY KEY (`id`)\n",
    ");\n",
    "\n",
    "CREATE TABLE `books_authors` (\n",
    "    `book_id` int NOT NULL,\n",
    "    `author_id` int NOT NULL\n",
    ");\n",
    "\n",
    "CREATE TABLE `categories` (\n",
    "    `id` int NOT NULL AUTO_INCREMENT,\n",
    "    `name` text,\n",
    "    PRIMARY KEY (`id`)\n",
    ");"
   ]
  },
  {
   "cell_type": "code",
   "execution_count": 9,
   "id": "13a8956c-72d5-4ce3-9b86-480eead885f2",
   "metadata": {
    "vscode": {
     "languageId": "shellscript"
    }
   },
   "outputs": [
    {
     "data": {
      "text/html": [
       "<span style=\"None\">Running query in &#x27;mysql://root@localhost/test&#x27;</span>"
      ],
      "text/plain": [
       "Running query in 'mysql://root@localhost/test'"
      ]
     },
     "metadata": {},
     "output_type": "display_data"
    },
    {
     "data": {
      "text/html": [
       "<span style=\"color: green\">4 rows affected.</span>"
      ],
      "text/plain": [
       "4 rows affected."
      ]
     },
     "metadata": {},
     "output_type": "display_data"
    },
    {
     "data": {
      "text/html": [
       "<table>\n",
       "    <thead>\n",
       "        <tr>\n",
       "            <th>Tables_in_test</th>\n",
       "        </tr>\n",
       "    </thead>\n",
       "    <tbody>\n",
       "        <tr>\n",
       "            <td>authors</td>\n",
       "        </tr>\n",
       "        <tr>\n",
       "            <td>books</td>\n",
       "        </tr>\n",
       "        <tr>\n",
       "            <td>books_authors</td>\n",
       "        </tr>\n",
       "        <tr>\n",
       "            <td>categories</td>\n",
       "        </tr>\n",
       "    </tbody>\n",
       "</table>"
      ],
      "text/plain": [
       "+----------------+\n",
       "| Tables_in_test |\n",
       "+----------------+\n",
       "|    authors     |\n",
       "|     books      |\n",
       "| books_authors  |\n",
       "|   categories   |\n",
       "+----------------+"
      ]
     },
     "execution_count": 9,
     "metadata": {},
     "output_type": "execute_result"
    }
   ],
   "source": [
    "# | label: show-tables\n",
    "%sql SHOW TABLES"
   ]
  },
  {
   "cell_type": "code",
   "execution_count": 10,
   "id": "3acd9e5d-0639-460e-933e-08478aead33f",
   "metadata": {
    "label": "create-relations",
    "scrolled": true
   },
   "outputs": [
    {
     "data": {
      "text/html": [
       "<span style=\"None\">Running query in &#x27;mysql://root@localhost/test&#x27;</span>"
      ],
      "text/plain": [
       "Running query in 'mysql://root@localhost/test'"
      ]
     },
     "metadata": {},
     "output_type": "display_data"
    },
    {
     "data": {
      "text/html": [
       "<table>\n",
       "    <thead>\n",
       "        <tr>\n",
       "        </tr>\n",
       "    </thead>\n",
       "    <tbody>\n",
       "    </tbody>\n",
       "</table>"
      ],
      "text/plain": [
       "++\n",
       "||\n",
       "++\n",
       "++"
      ]
     },
     "execution_count": 10,
     "metadata": {},
     "output_type": "execute_result"
    }
   ],
   "source": [
    "%%sql\n",
    "\n",
    "ALTER TABLE `books_authors` ADD CONSTRAINT books_book_id\n",
    "FOREIGN KEY (`book_id`) REFERENCES `books` (`id`);\n",
    "\n",
    "ALTER TABLE `books_authors` ADD CONSTRAINT authors_author_id\n",
    "FOREIGN KEY (`author_id`) REFERENCES `authors` (`id`);\n",
    "\n",
    "ALTER TABLE `books` ADD CONSTRAINT categories_category_id\n",
    "FOREIGN KEY (`category_id`) REFERENCES `categories` (`id`);"
   ]
  },
  {
   "cell_type": "code",
   "execution_count": 11,
   "id": "30f1d471",
   "metadata": {
    "label": "insert-records"
   },
   "outputs": [
    {
     "data": {
      "text/html": [
       "<span style=\"None\">Running query in &#x27;mysql://root@localhost/test&#x27;</span>"
      ],
      "text/plain": [
       "Running query in 'mysql://root@localhost/test'"
      ]
     },
     "metadata": {},
     "output_type": "display_data"
    },
    {
     "data": {
      "text/html": [
       "<span style=\"color: green\">5 rows affected.</span>"
      ],
      "text/plain": [
       "5 rows affected."
      ]
     },
     "metadata": {},
     "output_type": "display_data"
    },
    {
     "data": {
      "text/html": [
       "<span style=\"color: green\">5 rows affected.</span>"
      ],
      "text/plain": [
       "5 rows affected."
      ]
     },
     "metadata": {},
     "output_type": "display_data"
    },
    {
     "data": {
      "text/html": [
       "<span style=\"color: green\">10 rows affected.</span>"
      ],
      "text/plain": [
       "10 rows affected."
      ]
     },
     "metadata": {},
     "output_type": "display_data"
    },
    {
     "data": {
      "text/html": [
       "<span style=\"color: green\">10 rows affected.</span>"
      ],
      "text/plain": [
       "10 rows affected."
      ]
     },
     "metadata": {},
     "output_type": "display_data"
    },
    {
     "data": {
      "text/html": [
       "<table>\n",
       "    <thead>\n",
       "        <tr>\n",
       "        </tr>\n",
       "    </thead>\n",
       "    <tbody>\n",
       "    </tbody>\n",
       "</table>"
      ],
      "text/plain": [
       "++\n",
       "||\n",
       "++\n",
       "++"
      ]
     },
     "execution_count": 11,
     "metadata": {},
     "output_type": "execute_result"
    }
   ],
   "source": [
    "%%sql\n",
    "\n",
    "INSERT INTO `authors` (`name`)\n",
    "VALUES\n",
    "    ('Author Name 1'),\n",
    "    ('Author Name 2'),\n",
    "    ('Author Name 3'),\n",
    "    ('Author Name 4'),\n",
    "    ('Author Name 5');\n",
    "\n",
    "INSERT INTO `categories` (`name`)\n",
    "VALUES\n",
    "    ('Fiction'),\n",
    "    ('Non-Fiction'),\n",
    "    ('Science Fiction'),\n",
    "    ('Mystery'),\n",
    "    ('Romance');\n",
    "\n",
    "INSERT INTO `books` (`category_id`, `title`, `year`)\n",
    "VALUES\n",
    "    (1, 'Book Title 1', 2022),\n",
    "    (2, 'Book Title 2', 2019),\n",
    "    (1, 'Book Title 3', 2020),\n",
    "    (3, 'Book Title 4', 2021),\n",
    "    (2, 'Book Title 5', 2018),\n",
    "    (3, 'Book Title 6', 2017),\n",
    "    (1, 'Book Title 7', 2016),\n",
    "    (2, 'Book Title 8', 2015),\n",
    "    (3, 'Book Title 9', 2014),\n",
    "    (1, 'Book Title 10', 2013);\n",
    "\n",
    "INSERT INTO `books_authors` (`book_id`, `author_id`)\n",
    "VALUES\n",
    "    (1, 1),\n",
    "    (1, 2),\n",
    "    (2, 2),\n",
    "    (3, 3),\n",
    "    (4, 4),\n",
    "    (5, 5),\n",
    "    (6, 1),\n",
    "    (7, 2),\n",
    "    (8, 3),\n",
    "    (9, 4);"
   ]
  },
  {
   "cell_type": "code",
   "execution_count": 12,
   "id": "115ea1c8",
   "metadata": {
    "label": "select-books"
   },
   "outputs": [
    {
     "data": {
      "text/html": [
       "<span style=\"None\">Running query in &#x27;mysql://root@localhost/test&#x27;</span>"
      ],
      "text/plain": [
       "Running query in 'mysql://root@localhost/test'"
      ]
     },
     "metadata": {},
     "output_type": "display_data"
    },
    {
     "data": {
      "text/html": [
       "<span style=\"color: green\">10 rows affected.</span>"
      ],
      "text/plain": [
       "10 rows affected."
      ]
     },
     "metadata": {},
     "output_type": "display_data"
    },
    {
     "data": {
      "text/html": [
       "<table>\n",
       "    <thead>\n",
       "        <tr>\n",
       "            <th>id</th>\n",
       "            <th>category_id</th>\n",
       "            <th>title</th>\n",
       "            <th>year</th>\n",
       "        </tr>\n",
       "    </thead>\n",
       "    <tbody>\n",
       "        <tr>\n",
       "            <td>1</td>\n",
       "            <td>1</td>\n",
       "            <td>Book Title 1</td>\n",
       "            <td>2022</td>\n",
       "        </tr>\n",
       "        <tr>\n",
       "            <td>2</td>\n",
       "            <td>2</td>\n",
       "            <td>Book Title 2</td>\n",
       "            <td>2019</td>\n",
       "        </tr>\n",
       "        <tr>\n",
       "            <td>3</td>\n",
       "            <td>1</td>\n",
       "            <td>Book Title 3</td>\n",
       "            <td>2020</td>\n",
       "        </tr>\n",
       "        <tr>\n",
       "            <td>4</td>\n",
       "            <td>3</td>\n",
       "            <td>Book Title 4</td>\n",
       "            <td>2021</td>\n",
       "        </tr>\n",
       "        <tr>\n",
       "            <td>5</td>\n",
       "            <td>2</td>\n",
       "            <td>Book Title 5</td>\n",
       "            <td>2018</td>\n",
       "        </tr>\n",
       "        <tr>\n",
       "            <td>6</td>\n",
       "            <td>3</td>\n",
       "            <td>Book Title 6</td>\n",
       "            <td>2017</td>\n",
       "        </tr>\n",
       "        <tr>\n",
       "            <td>7</td>\n",
       "            <td>1</td>\n",
       "            <td>Book Title 7</td>\n",
       "            <td>2016</td>\n",
       "        </tr>\n",
       "        <tr>\n",
       "            <td>8</td>\n",
       "            <td>2</td>\n",
       "            <td>Book Title 8</td>\n",
       "            <td>2015</td>\n",
       "        </tr>\n",
       "        <tr>\n",
       "            <td>9</td>\n",
       "            <td>3</td>\n",
       "            <td>Book Title 9</td>\n",
       "            <td>2014</td>\n",
       "        </tr>\n",
       "        <tr>\n",
       "            <td>10</td>\n",
       "            <td>1</td>\n",
       "            <td>Book Title 10</td>\n",
       "            <td>2013</td>\n",
       "        </tr>\n",
       "    </tbody>\n",
       "</table>\n",
       "<span style=\"font-style:italic;text-align:center;\">Truncated to <a href=\"https://jupysql.ploomber.io/en/latest/api/configuration.html#displaylimit\">displaylimit</a> of 10.</span>"
      ],
      "text/plain": [
       "+----+-------------+---------------+------+\n",
       "| id | category_id |     title     | year |\n",
       "+----+-------------+---------------+------+\n",
       "| 1  |      1      |  Book Title 1 | 2022 |\n",
       "| 2  |      2      |  Book Title 2 | 2019 |\n",
       "| 3  |      1      |  Book Title 3 | 2020 |\n",
       "| 4  |      3      |  Book Title 4 | 2021 |\n",
       "| 5  |      2      |  Book Title 5 | 2018 |\n",
       "| 6  |      3      |  Book Title 6 | 2017 |\n",
       "| 7  |      1      |  Book Title 7 | 2016 |\n",
       "| 8  |      2      |  Book Title 8 | 2015 |\n",
       "| 9  |      3      |  Book Title 9 | 2014 |\n",
       "| 10 |      1      | Book Title 10 | 2013 |\n",
       "+----+-------------+---------------+------+\n",
       "Truncated to displaylimit of 10."
      ]
     },
     "execution_count": 12,
     "metadata": {},
     "output_type": "execute_result"
    }
   ],
   "source": [
    "%%sql\n",
    "SELECT * FROM books;"
   ]
  },
  {
   "cell_type": "code",
   "execution_count": 13,
   "id": "7fac03da-eb11-4856-9b0c-db098140f180",
   "metadata": {
    "vscode": {
     "languageId": "shellscript"
    }
   },
   "outputs": [
    {
     "data": {
      "text/html": [
       "<span style=\"None\">Running query in &#x27;mysql://root@localhost/test&#x27;</span>"
      ],
      "text/plain": [
       "Running query in 'mysql://root@localhost/test'"
      ]
     },
     "metadata": {},
     "output_type": "display_data"
    },
    {
     "data": {
      "text/html": [
       "<span style=\"color: green\">10 rows affected.</span>"
      ],
      "text/plain": [
       "10 rows affected."
      ]
     },
     "metadata": {},
     "output_type": "display_data"
    },
    {
     "data": {
      "text/html": [
       "<table>\n",
       "    <thead>\n",
       "        <tr>\n",
       "            <th>book_title</th>\n",
       "            <th>author_name</th>\n",
       "        </tr>\n",
       "    </thead>\n",
       "    <tbody>\n",
       "        <tr>\n",
       "            <td>Book Title 1</td>\n",
       "            <td>Author Name 1</td>\n",
       "        </tr>\n",
       "        <tr>\n",
       "            <td>Book Title 6</td>\n",
       "            <td>Author Name 1</td>\n",
       "        </tr>\n",
       "        <tr>\n",
       "            <td>Book Title 1</td>\n",
       "            <td>Author Name 2</td>\n",
       "        </tr>\n",
       "        <tr>\n",
       "            <td>Book Title 2</td>\n",
       "            <td>Author Name 2</td>\n",
       "        </tr>\n",
       "        <tr>\n",
       "            <td>Book Title 7</td>\n",
       "            <td>Author Name 2</td>\n",
       "        </tr>\n",
       "        <tr>\n",
       "            <td>Book Title 3</td>\n",
       "            <td>Author Name 3</td>\n",
       "        </tr>\n",
       "        <tr>\n",
       "            <td>Book Title 8</td>\n",
       "            <td>Author Name 3</td>\n",
       "        </tr>\n",
       "        <tr>\n",
       "            <td>Book Title 4</td>\n",
       "            <td>Author Name 4</td>\n",
       "        </tr>\n",
       "        <tr>\n",
       "            <td>Book Title 9</td>\n",
       "            <td>Author Name 4</td>\n",
       "        </tr>\n",
       "        <tr>\n",
       "            <td>Book Title 5</td>\n",
       "            <td>Author Name 5</td>\n",
       "        </tr>\n",
       "    </tbody>\n",
       "</table>\n",
       "<span style=\"font-style:italic;text-align:center;\">Truncated to <a href=\"https://jupysql.ploomber.io/en/latest/api/configuration.html#displaylimit\">displaylimit</a> of 10.</span>"
      ],
      "text/plain": [
       "+--------------+---------------+\n",
       "|  book_title  |  author_name  |\n",
       "+--------------+---------------+\n",
       "| Book Title 1 | Author Name 1 |\n",
       "| Book Title 6 | Author Name 1 |\n",
       "| Book Title 1 | Author Name 2 |\n",
       "| Book Title 2 | Author Name 2 |\n",
       "| Book Title 7 | Author Name 2 |\n",
       "| Book Title 3 | Author Name 3 |\n",
       "| Book Title 8 | Author Name 3 |\n",
       "| Book Title 4 | Author Name 4 |\n",
       "| Book Title 9 | Author Name 4 |\n",
       "| Book Title 5 | Author Name 5 |\n",
       "+--------------+---------------+\n",
       "Truncated to displaylimit of 10."
      ]
     },
     "execution_count": 13,
     "metadata": {},
     "output_type": "execute_result"
    }
   ],
   "source": [
    "%%sql\n",
    "SELECT\n",
    "    b.title AS book_title,\n",
    "    a.name AS author_name\n",
    "FROM\n",
    "    books_authors ba\n",
    "JOIN\n",
    "    books b ON ba.book_id = b.id\n",
    "JOIN\n",
    "    authors a ON ba.author_id = a.id;"
   ]
  },
  {
   "cell_type": "code",
   "execution_count": 14,
   "id": "013516b8-ee4a-4936-b108-a3a4cbc0e603",
   "metadata": {
    "editable": true,
    "label": "select-books-before-delete",
    "slideshow": {
     "slide_type": ""
    },
    "tags": []
   },
   "outputs": [
    {
     "data": {
      "text/html": [
       "<span style=\"None\">Running query in &#x27;mysql://root@localhost/test&#x27;</span>"
      ],
      "text/plain": [
       "Running query in 'mysql://root@localhost/test'"
      ]
     },
     "metadata": {},
     "output_type": "display_data"
    },
    {
     "data": {
      "text/html": [
       "<span style=\"color: green\">10 rows affected.</span>"
      ],
      "text/plain": [
       "10 rows affected."
      ]
     },
     "metadata": {},
     "output_type": "display_data"
    },
    {
     "data": {
      "text/html": [
       "<table>\n",
       "    <thead>\n",
       "        <tr>\n",
       "            <th>id</th>\n",
       "            <th>category_id</th>\n",
       "            <th>title</th>\n",
       "            <th>year</th>\n",
       "        </tr>\n",
       "    </thead>\n",
       "    <tbody>\n",
       "        <tr>\n",
       "            <td>1</td>\n",
       "            <td>1</td>\n",
       "            <td>Book Title 1</td>\n",
       "            <td>2022</td>\n",
       "        </tr>\n",
       "        <tr>\n",
       "            <td>2</td>\n",
       "            <td>2</td>\n",
       "            <td>Book Title 2</td>\n",
       "            <td>2019</td>\n",
       "        </tr>\n",
       "        <tr>\n",
       "            <td>3</td>\n",
       "            <td>1</td>\n",
       "            <td>Book Title 3</td>\n",
       "            <td>2020</td>\n",
       "        </tr>\n",
       "        <tr>\n",
       "            <td>4</td>\n",
       "            <td>3</td>\n",
       "            <td>Book Title 4</td>\n",
       "            <td>2021</td>\n",
       "        </tr>\n",
       "        <tr>\n",
       "            <td>5</td>\n",
       "            <td>2</td>\n",
       "            <td>Book Title 5</td>\n",
       "            <td>2018</td>\n",
       "        </tr>\n",
       "        <tr>\n",
       "            <td>6</td>\n",
       "            <td>3</td>\n",
       "            <td>Book Title 6</td>\n",
       "            <td>2017</td>\n",
       "        </tr>\n",
       "        <tr>\n",
       "            <td>7</td>\n",
       "            <td>1</td>\n",
       "            <td>Book Title 7</td>\n",
       "            <td>2016</td>\n",
       "        </tr>\n",
       "        <tr>\n",
       "            <td>8</td>\n",
       "            <td>2</td>\n",
       "            <td>Book Title 8</td>\n",
       "            <td>2015</td>\n",
       "        </tr>\n",
       "        <tr>\n",
       "            <td>9</td>\n",
       "            <td>3</td>\n",
       "            <td>Book Title 9</td>\n",
       "            <td>2014</td>\n",
       "        </tr>\n",
       "        <tr>\n",
       "            <td>10</td>\n",
       "            <td>1</td>\n",
       "            <td>Book Title 10</td>\n",
       "            <td>2013</td>\n",
       "        </tr>\n",
       "    </tbody>\n",
       "</table>\n",
       "<span style=\"font-style:italic;text-align:center;\">Truncated to <a href=\"https://jupysql.ploomber.io/en/latest/api/configuration.html#displaylimit\">displaylimit</a> of 10.</span>"
      ],
      "text/plain": [
       "+----+-------------+---------------+------+\n",
       "| id | category_id |     title     | year |\n",
       "+----+-------------+---------------+------+\n",
       "| 1  |      1      |  Book Title 1 | 2022 |\n",
       "| 2  |      2      |  Book Title 2 | 2019 |\n",
       "| 3  |      1      |  Book Title 3 | 2020 |\n",
       "| 4  |      3      |  Book Title 4 | 2021 |\n",
       "| 5  |      2      |  Book Title 5 | 2018 |\n",
       "| 6  |      3      |  Book Title 6 | 2017 |\n",
       "| 7  |      1      |  Book Title 7 | 2016 |\n",
       "| 8  |      2      |  Book Title 8 | 2015 |\n",
       "| 9  |      3      |  Book Title 9 | 2014 |\n",
       "| 10 |      1      | Book Title 10 | 2013 |\n",
       "+----+-------------+---------------+------+\n",
       "Truncated to displaylimit of 10."
      ]
     },
     "execution_count": 14,
     "metadata": {},
     "output_type": "execute_result"
    }
   ],
   "source": [
    "%%sql\n",
    "SELECT * FROM books;"
   ]
  },
  {
   "cell_type": "code",
   "execution_count": 15,
   "id": "e3768c1c-6e89-4368-afe0-11a82e7934c9",
   "metadata": {
    "editable": true,
    "label": "delete-records-fail",
    "slideshow": {
     "slide_type": ""
    },
    "tags": [
     "raises-exception"
    ]
   },
   "outputs": [
    {
     "data": {
      "text/html": [
       "<span style=\"None\">Running query in &#x27;mysql://root@localhost/test&#x27;</span>"
      ],
      "text/plain": [
       "Running query in 'mysql://root@localhost/test'"
      ]
     },
     "metadata": {},
     "output_type": "display_data"
    },
    {
     "name": "stderr",
     "output_type": "stream",
     "text": [
      "RuntimeError: (MySQLdb.IntegrityError) (1451, 'Cannot delete or update a parent row: a foreign key constraint fails (`test`.`books_authors`, CONSTRAINT `books_book_id` FOREIGN KEY (`book_id`) REFERENCES `books` (`id`))')\n",
      "[SQL: DELETE FROM `books` WHERE `id` = 1;]\n",
      "(Background on this error at: https://sqlalche.me/e/20/gkpj)\n",
      "If you need help solving this issue, send us a message: https://ploomber.io/community\n"
     ]
    }
   ],
   "source": [
    "%%sql\n",
    "DELETE FROM `books` WHERE `id` = 1;"
   ]
  },
  {
   "cell_type": "code",
   "execution_count": 16,
   "id": "ebb8d5c5-a6d0-4f3a-ae8e-1ca3a6d37993",
   "metadata": {
    "label": "delete-records-success"
   },
   "outputs": [
    {
     "data": {
      "text/html": [
       "<span style=\"None\">Running query in &#x27;mysql://root@localhost/test&#x27;</span>"
      ],
      "text/plain": [
       "Running query in 'mysql://root@localhost/test'"
      ]
     },
     "metadata": {},
     "output_type": "display_data"
    },
    {
     "data": {
      "text/html": [
       "<span style=\"color: green\">2 rows affected.</span>"
      ],
      "text/plain": [
       "2 rows affected."
      ]
     },
     "metadata": {},
     "output_type": "display_data"
    },
    {
     "data": {
      "text/html": [
       "<span style=\"color: green\">1 rows affected.</span>"
      ],
      "text/plain": [
       "1 rows affected."
      ]
     },
     "metadata": {},
     "output_type": "display_data"
    },
    {
     "data": {
      "text/html": [
       "<table>\n",
       "    <thead>\n",
       "        <tr>\n",
       "        </tr>\n",
       "    </thead>\n",
       "    <tbody>\n",
       "    </tbody>\n",
       "</table>"
      ],
      "text/plain": [
       "++\n",
       "||\n",
       "++\n",
       "++"
      ]
     },
     "execution_count": 16,
     "metadata": {},
     "output_type": "execute_result"
    }
   ],
   "source": [
    "%%sql\n",
    "DELETE FROM `books_authors` WHERE `book_id` = 1;\n",
    "DELETE FROM `books` WHERE  `id` = 1;"
   ]
  },
  {
   "cell_type": "code",
   "execution_count": 17,
   "id": "586e1506-ce71-43b9-be47-7d8c195cd883",
   "metadata": {
    "editable": true,
    "label": "select-books-after-delete",
    "slideshow": {
     "slide_type": ""
    },
    "tags": []
   },
   "outputs": [
    {
     "data": {
      "text/html": [
       "<span style=\"None\">Running query in &#x27;mysql://root@localhost/test&#x27;</span>"
      ],
      "text/plain": [
       "Running query in 'mysql://root@localhost/test'"
      ]
     },
     "metadata": {},
     "output_type": "display_data"
    },
    {
     "data": {
      "text/html": [
       "<span style=\"color: green\">9 rows affected.</span>"
      ],
      "text/plain": [
       "9 rows affected."
      ]
     },
     "metadata": {},
     "output_type": "display_data"
    },
    {
     "data": {
      "text/html": [
       "<table>\n",
       "    <thead>\n",
       "        <tr>\n",
       "            <th>id</th>\n",
       "            <th>category_id</th>\n",
       "            <th>title</th>\n",
       "            <th>year</th>\n",
       "        </tr>\n",
       "    </thead>\n",
       "    <tbody>\n",
       "        <tr>\n",
       "            <td>2</td>\n",
       "            <td>2</td>\n",
       "            <td>Book Title 2</td>\n",
       "            <td>2019</td>\n",
       "        </tr>\n",
       "        <tr>\n",
       "            <td>3</td>\n",
       "            <td>1</td>\n",
       "            <td>Book Title 3</td>\n",
       "            <td>2020</td>\n",
       "        </tr>\n",
       "        <tr>\n",
       "            <td>4</td>\n",
       "            <td>3</td>\n",
       "            <td>Book Title 4</td>\n",
       "            <td>2021</td>\n",
       "        </tr>\n",
       "        <tr>\n",
       "            <td>5</td>\n",
       "            <td>2</td>\n",
       "            <td>Book Title 5</td>\n",
       "            <td>2018</td>\n",
       "        </tr>\n",
       "        <tr>\n",
       "            <td>6</td>\n",
       "            <td>3</td>\n",
       "            <td>Book Title 6</td>\n",
       "            <td>2017</td>\n",
       "        </tr>\n",
       "        <tr>\n",
       "            <td>7</td>\n",
       "            <td>1</td>\n",
       "            <td>Book Title 7</td>\n",
       "            <td>2016</td>\n",
       "        </tr>\n",
       "        <tr>\n",
       "            <td>8</td>\n",
       "            <td>2</td>\n",
       "            <td>Book Title 8</td>\n",
       "            <td>2015</td>\n",
       "        </tr>\n",
       "        <tr>\n",
       "            <td>9</td>\n",
       "            <td>3</td>\n",
       "            <td>Book Title 9</td>\n",
       "            <td>2014</td>\n",
       "        </tr>\n",
       "        <tr>\n",
       "            <td>10</td>\n",
       "            <td>1</td>\n",
       "            <td>Book Title 10</td>\n",
       "            <td>2013</td>\n",
       "        </tr>\n",
       "    </tbody>\n",
       "</table>"
      ],
      "text/plain": [
       "+----+-------------+---------------+------+\n",
       "| id | category_id |     title     | year |\n",
       "+----+-------------+---------------+------+\n",
       "| 2  |      2      |  Book Title 2 | 2019 |\n",
       "| 3  |      1      |  Book Title 3 | 2020 |\n",
       "| 4  |      3      |  Book Title 4 | 2021 |\n",
       "| 5  |      2      |  Book Title 5 | 2018 |\n",
       "| 6  |      3      |  Book Title 6 | 2017 |\n",
       "| 7  |      1      |  Book Title 7 | 2016 |\n",
       "| 8  |      2      |  Book Title 8 | 2015 |\n",
       "| 9  |      3      |  Book Title 9 | 2014 |\n",
       "| 10 |      1      | Book Title 10 | 2013 |\n",
       "+----+-------------+---------------+------+"
      ]
     },
     "execution_count": 17,
     "metadata": {},
     "output_type": "execute_result"
    }
   ],
   "source": [
    "%%sql\n",
    "SELECT * FROM books;"
   ]
  },
  {
   "cell_type": "code",
   "execution_count": 18,
   "id": "46d30214-7540-4372-983a-5a5fb0b395b7",
   "metadata": {
    "editable": true,
    "label": "select-books-before-update",
    "slideshow": {
     "slide_type": ""
    },
    "tags": []
   },
   "outputs": [
    {
     "data": {
      "text/html": [
       "<span style=\"None\">Running query in &#x27;mysql://root@localhost/test&#x27;</span>"
      ],
      "text/plain": [
       "Running query in 'mysql://root@localhost/test'"
      ]
     },
     "metadata": {},
     "output_type": "display_data"
    },
    {
     "data": {
      "text/html": [
       "<span style=\"color: green\">1 rows affected.</span>"
      ],
      "text/plain": [
       "1 rows affected."
      ]
     },
     "metadata": {},
     "output_type": "display_data"
    },
    {
     "data": {
      "text/html": [
       "<table>\n",
       "    <thead>\n",
       "        <tr>\n",
       "            <th>id</th>\n",
       "            <th>category_id</th>\n",
       "            <th>title</th>\n",
       "            <th>year</th>\n",
       "        </tr>\n",
       "    </thead>\n",
       "    <tbody>\n",
       "        <tr>\n",
       "            <td>2</td>\n",
       "            <td>2</td>\n",
       "            <td>Book Title 2</td>\n",
       "            <td>2019</td>\n",
       "        </tr>\n",
       "    </tbody>\n",
       "</table>"
      ],
      "text/plain": [
       "+----+-------------+--------------+------+\n",
       "| id | category_id |    title     | year |\n",
       "+----+-------------+--------------+------+\n",
       "| 2  |      2      | Book Title 2 | 2019 |\n",
       "+----+-------------+--------------+------+"
      ]
     },
     "execution_count": 18,
     "metadata": {},
     "output_type": "execute_result"
    }
   ],
   "source": [
    "%%sql\n",
    "SELECT * FROM books WHERE id = 2;"
   ]
  },
  {
   "cell_type": "code",
   "execution_count": 19,
   "id": "17e2e22b-2d02-4328-982a-8e5a1ebc2d38",
   "metadata": {
    "editable": true,
    "label": "update-books",
    "slideshow": {
     "slide_type": ""
    },
    "tags": []
   },
   "outputs": [
    {
     "data": {
      "text/html": [
       "<span style=\"None\">Running query in &#x27;mysql://root@localhost/test&#x27;</span>"
      ],
      "text/plain": [
       "Running query in 'mysql://root@localhost/test'"
      ]
     },
     "metadata": {},
     "output_type": "display_data"
    },
    {
     "data": {
      "text/html": [
       "<span style=\"color: green\">1 rows affected.</span>"
      ],
      "text/plain": [
       "1 rows affected."
      ]
     },
     "metadata": {},
     "output_type": "display_data"
    },
    {
     "data": {
      "text/html": [
       "<table>\n",
       "    <thead>\n",
       "        <tr>\n",
       "        </tr>\n",
       "    </thead>\n",
       "    <tbody>\n",
       "    </tbody>\n",
       "</table>"
      ],
      "text/plain": [
       "++\n",
       "||\n",
       "++\n",
       "++"
      ]
     },
     "execution_count": 19,
     "metadata": {},
     "output_type": "execute_result"
    }
   ],
   "source": [
    "%%sql\n",
    "UPDATE books SET category_id = 4 WHERE id = 2;"
   ]
  },
  {
   "cell_type": "code",
   "execution_count": 20,
   "id": "2247e33d-6aa2-4fa3-8b8e-9234eec353ea",
   "metadata": {
    "editable": true,
    "label": "select-books-after-update",
    "slideshow": {
     "slide_type": ""
    },
    "tags": []
   },
   "outputs": [
    {
     "data": {
      "text/html": [
       "<span style=\"None\">Running query in &#x27;mysql://root@localhost/test&#x27;</span>"
      ],
      "text/plain": [
       "Running query in 'mysql://root@localhost/test'"
      ]
     },
     "metadata": {},
     "output_type": "display_data"
    },
    {
     "data": {
      "text/html": [
       "<span style=\"color: green\">1 rows affected.</span>"
      ],
      "text/plain": [
       "1 rows affected."
      ]
     },
     "metadata": {},
     "output_type": "display_data"
    },
    {
     "data": {
      "text/html": [
       "<table>\n",
       "    <thead>\n",
       "        <tr>\n",
       "            <th>id</th>\n",
       "            <th>category_id</th>\n",
       "            <th>title</th>\n",
       "            <th>year</th>\n",
       "        </tr>\n",
       "    </thead>\n",
       "    <tbody>\n",
       "        <tr>\n",
       "            <td>2</td>\n",
       "            <td>4</td>\n",
       "            <td>Book Title 2</td>\n",
       "            <td>2019</td>\n",
       "        </tr>\n",
       "    </tbody>\n",
       "</table>"
      ],
      "text/plain": [
       "+----+-------------+--------------+------+\n",
       "| id | category_id |    title     | year |\n",
       "+----+-------------+--------------+------+\n",
       "| 2  |      4      | Book Title 2 | 2019 |\n",
       "+----+-------------+--------------+------+"
      ]
     },
     "execution_count": 20,
     "metadata": {},
     "output_type": "execute_result"
    }
   ],
   "source": [
    "%%sql\n",
    "SELECT * FROM books WHERE id = 2;"
   ]
  },
  {
   "cell_type": "code",
   "execution_count": 21,
   "id": "3b0a25ae-ee45-47f4-bff6-0f9efbffdba2",
   "metadata": {
    "editable": true,
    "label": "select-all-books",
    "slideshow": {
     "slide_type": ""
    },
    "tags": []
   },
   "outputs": [
    {
     "data": {
      "text/html": [
       "<span style=\"None\">Running query in &#x27;mysql://root@localhost/test&#x27;</span>"
      ],
      "text/plain": [
       "Running query in 'mysql://root@localhost/test'"
      ]
     },
     "metadata": {},
     "output_type": "display_data"
    },
    {
     "data": {
      "text/html": [
       "<span style=\"color: green\">9 rows affected.</span>"
      ],
      "text/plain": [
       "9 rows affected."
      ]
     },
     "metadata": {},
     "output_type": "display_data"
    },
    {
     "data": {
      "text/html": [
       "<table>\n",
       "    <thead>\n",
       "        <tr>\n",
       "            <th>id</th>\n",
       "            <th>category_id</th>\n",
       "            <th>title</th>\n",
       "            <th>year</th>\n",
       "        </tr>\n",
       "    </thead>\n",
       "    <tbody>\n",
       "        <tr>\n",
       "            <td>2</td>\n",
       "            <td>4</td>\n",
       "            <td>Book Title 2</td>\n",
       "            <td>2019</td>\n",
       "        </tr>\n",
       "        <tr>\n",
       "            <td>3</td>\n",
       "            <td>1</td>\n",
       "            <td>Book Title 3</td>\n",
       "            <td>2020</td>\n",
       "        </tr>\n",
       "        <tr>\n",
       "            <td>4</td>\n",
       "            <td>3</td>\n",
       "            <td>Book Title 4</td>\n",
       "            <td>2021</td>\n",
       "        </tr>\n",
       "        <tr>\n",
       "            <td>5</td>\n",
       "            <td>2</td>\n",
       "            <td>Book Title 5</td>\n",
       "            <td>2018</td>\n",
       "        </tr>\n",
       "        <tr>\n",
       "            <td>6</td>\n",
       "            <td>3</td>\n",
       "            <td>Book Title 6</td>\n",
       "            <td>2017</td>\n",
       "        </tr>\n",
       "        <tr>\n",
       "            <td>7</td>\n",
       "            <td>1</td>\n",
       "            <td>Book Title 7</td>\n",
       "            <td>2016</td>\n",
       "        </tr>\n",
       "        <tr>\n",
       "            <td>8</td>\n",
       "            <td>2</td>\n",
       "            <td>Book Title 8</td>\n",
       "            <td>2015</td>\n",
       "        </tr>\n",
       "        <tr>\n",
       "            <td>9</td>\n",
       "            <td>3</td>\n",
       "            <td>Book Title 9</td>\n",
       "            <td>2014</td>\n",
       "        </tr>\n",
       "        <tr>\n",
       "            <td>10</td>\n",
       "            <td>1</td>\n",
       "            <td>Book Title 10</td>\n",
       "            <td>2013</td>\n",
       "        </tr>\n",
       "    </tbody>\n",
       "</table>"
      ],
      "text/plain": [
       "+----+-------------+---------------+------+\n",
       "| id | category_id |     title     | year |\n",
       "+----+-------------+---------------+------+\n",
       "| 2  |      4      |  Book Title 2 | 2019 |\n",
       "| 3  |      1      |  Book Title 3 | 2020 |\n",
       "| 4  |      3      |  Book Title 4 | 2021 |\n",
       "| 5  |      2      |  Book Title 5 | 2018 |\n",
       "| 6  |      3      |  Book Title 6 | 2017 |\n",
       "| 7  |      1      |  Book Title 7 | 2016 |\n",
       "| 8  |      2      |  Book Title 8 | 2015 |\n",
       "| 9  |      3      |  Book Title 9 | 2014 |\n",
       "| 10 |      1      | Book Title 10 | 2013 |\n",
       "+----+-------------+---------------+------+"
      ]
     },
     "execution_count": 21,
     "metadata": {},
     "output_type": "execute_result"
    }
   ],
   "source": [
    "%%sql\n",
    "SELECT * FROM books;"
   ]
  },
  {
   "cell_type": "code",
   "execution_count": 22,
   "id": "84df07e4-7a71-48f6-a278-88465255b38d",
   "metadata": {
    "label": "select-filelds"
   },
   "outputs": [
    {
     "data": {
      "text/html": [
       "<span style=\"None\">Running query in &#x27;mysql://root@localhost/test&#x27;</span>"
      ],
      "text/plain": [
       "Running query in 'mysql://root@localhost/test'"
      ]
     },
     "metadata": {},
     "output_type": "display_data"
    },
    {
     "data": {
      "text/html": [
       "<span style=\"color: green\">9 rows affected.</span>"
      ],
      "text/plain": [
       "9 rows affected."
      ]
     },
     "metadata": {},
     "output_type": "display_data"
    },
    {
     "data": {
      "text/html": [
       "<table>\n",
       "    <thead>\n",
       "        <tr>\n",
       "            <th>title</th>\n",
       "            <th>year</th>\n",
       "        </tr>\n",
       "    </thead>\n",
       "    <tbody>\n",
       "        <tr>\n",
       "            <td>Book Title 2</td>\n",
       "            <td>2019</td>\n",
       "        </tr>\n",
       "        <tr>\n",
       "            <td>Book Title 3</td>\n",
       "            <td>2020</td>\n",
       "        </tr>\n",
       "        <tr>\n",
       "            <td>Book Title 4</td>\n",
       "            <td>2021</td>\n",
       "        </tr>\n",
       "        <tr>\n",
       "            <td>Book Title 5</td>\n",
       "            <td>2018</td>\n",
       "        </tr>\n",
       "        <tr>\n",
       "            <td>Book Title 6</td>\n",
       "            <td>2017</td>\n",
       "        </tr>\n",
       "        <tr>\n",
       "            <td>Book Title 7</td>\n",
       "            <td>2016</td>\n",
       "        </tr>\n",
       "        <tr>\n",
       "            <td>Book Title 8</td>\n",
       "            <td>2015</td>\n",
       "        </tr>\n",
       "        <tr>\n",
       "            <td>Book Title 9</td>\n",
       "            <td>2014</td>\n",
       "        </tr>\n",
       "        <tr>\n",
       "            <td>Book Title 10</td>\n",
       "            <td>2013</td>\n",
       "        </tr>\n",
       "    </tbody>\n",
       "</table>"
      ],
      "text/plain": [
       "+---------------+------+\n",
       "|     title     | year |\n",
       "+---------------+------+\n",
       "|  Book Title 2 | 2019 |\n",
       "|  Book Title 3 | 2020 |\n",
       "|  Book Title 4 | 2021 |\n",
       "|  Book Title 5 | 2018 |\n",
       "|  Book Title 6 | 2017 |\n",
       "|  Book Title 7 | 2016 |\n",
       "|  Book Title 8 | 2015 |\n",
       "|  Book Title 9 | 2014 |\n",
       "| Book Title 10 | 2013 |\n",
       "+---------------+------+"
      ]
     },
     "execution_count": 22,
     "metadata": {},
     "output_type": "execute_result"
    }
   ],
   "source": [
    "%%sql \n",
    "SELECT title, year FROM books;"
   ]
  },
  {
   "cell_type": "code",
   "execution_count": 23,
   "id": "ed9a18a5-5109-452b-bd27-12776a8cd556",
   "metadata": {
    "label": "select-where"
   },
   "outputs": [
    {
     "data": {
      "text/html": [
       "<span style=\"None\">Running query in &#x27;mysql://root@localhost/test&#x27;</span>"
      ],
      "text/plain": [
       "Running query in 'mysql://root@localhost/test'"
      ]
     },
     "metadata": {},
     "output_type": "display_data"
    },
    {
     "data": {
      "text/html": [
       "<span style=\"color: green\">2 rows affected.</span>"
      ],
      "text/plain": [
       "2 rows affected."
      ]
     },
     "metadata": {},
     "output_type": "display_data"
    },
    {
     "data": {
      "text/html": [
       "<table>\n",
       "    <thead>\n",
       "        <tr>\n",
       "            <th>id</th>\n",
       "            <th>category_id</th>\n",
       "            <th>title</th>\n",
       "            <th>year</th>\n",
       "        </tr>\n",
       "    </thead>\n",
       "    <tbody>\n",
       "        <tr>\n",
       "            <td>3</td>\n",
       "            <td>1</td>\n",
       "            <td>Book Title 3</td>\n",
       "            <td>2020</td>\n",
       "        </tr>\n",
       "        <tr>\n",
       "            <td>4</td>\n",
       "            <td>3</td>\n",
       "            <td>Book Title 4</td>\n",
       "            <td>2021</td>\n",
       "        </tr>\n",
       "    </tbody>\n",
       "</table>"
      ],
      "text/plain": [
       "+----+-------------+--------------+------+\n",
       "| id | category_id |    title     | year |\n",
       "+----+-------------+--------------+------+\n",
       "| 3  |      1      | Book Title 3 | 2020 |\n",
       "| 4  |      3      | Book Title 4 | 2021 |\n",
       "+----+-------------+--------------+------+"
      ]
     },
     "execution_count": 23,
     "metadata": {},
     "output_type": "execute_result"
    }
   ],
   "source": [
    "%%sql \n",
    "SELECT * FROM books WHERE year > 2019;"
   ]
  },
  {
   "cell_type": "code",
   "execution_count": 24,
   "id": "de5d3644-bfa3-471d-8923-4a0543f1abec",
   "metadata": {
    "label": "select-order"
   },
   "outputs": [
    {
     "data": {
      "text/html": [
       "<span style=\"None\">Running query in &#x27;mysql://root@localhost/test&#x27;</span>"
      ],
      "text/plain": [
       "Running query in 'mysql://root@localhost/test'"
      ]
     },
     "metadata": {},
     "output_type": "display_data"
    },
    {
     "data": {
      "text/html": [
       "<span style=\"color: green\">9 rows affected.</span>"
      ],
      "text/plain": [
       "9 rows affected."
      ]
     },
     "metadata": {},
     "output_type": "display_data"
    },
    {
     "data": {
      "text/html": [
       "<table>\n",
       "    <thead>\n",
       "        <tr>\n",
       "            <th>id</th>\n",
       "            <th>category_id</th>\n",
       "            <th>title</th>\n",
       "            <th>year</th>\n",
       "        </tr>\n",
       "    </thead>\n",
       "    <tbody>\n",
       "        <tr>\n",
       "            <td>4</td>\n",
       "            <td>3</td>\n",
       "            <td>Book Title 4</td>\n",
       "            <td>2021</td>\n",
       "        </tr>\n",
       "        <tr>\n",
       "            <td>3</td>\n",
       "            <td>1</td>\n",
       "            <td>Book Title 3</td>\n",
       "            <td>2020</td>\n",
       "        </tr>\n",
       "        <tr>\n",
       "            <td>2</td>\n",
       "            <td>4</td>\n",
       "            <td>Book Title 2</td>\n",
       "            <td>2019</td>\n",
       "        </tr>\n",
       "        <tr>\n",
       "            <td>5</td>\n",
       "            <td>2</td>\n",
       "            <td>Book Title 5</td>\n",
       "            <td>2018</td>\n",
       "        </tr>\n",
       "        <tr>\n",
       "            <td>6</td>\n",
       "            <td>3</td>\n",
       "            <td>Book Title 6</td>\n",
       "            <td>2017</td>\n",
       "        </tr>\n",
       "        <tr>\n",
       "            <td>7</td>\n",
       "            <td>1</td>\n",
       "            <td>Book Title 7</td>\n",
       "            <td>2016</td>\n",
       "        </tr>\n",
       "        <tr>\n",
       "            <td>8</td>\n",
       "            <td>2</td>\n",
       "            <td>Book Title 8</td>\n",
       "            <td>2015</td>\n",
       "        </tr>\n",
       "        <tr>\n",
       "            <td>9</td>\n",
       "            <td>3</td>\n",
       "            <td>Book Title 9</td>\n",
       "            <td>2014</td>\n",
       "        </tr>\n",
       "        <tr>\n",
       "            <td>10</td>\n",
       "            <td>1</td>\n",
       "            <td>Book Title 10</td>\n",
       "            <td>2013</td>\n",
       "        </tr>\n",
       "    </tbody>\n",
       "</table>"
      ],
      "text/plain": [
       "+----+-------------+---------------+------+\n",
       "| id | category_id |     title     | year |\n",
       "+----+-------------+---------------+------+\n",
       "| 4  |      3      |  Book Title 4 | 2021 |\n",
       "| 3  |      1      |  Book Title 3 | 2020 |\n",
       "| 2  |      4      |  Book Title 2 | 2019 |\n",
       "| 5  |      2      |  Book Title 5 | 2018 |\n",
       "| 6  |      3      |  Book Title 6 | 2017 |\n",
       "| 7  |      1      |  Book Title 7 | 2016 |\n",
       "| 8  |      2      |  Book Title 8 | 2015 |\n",
       "| 9  |      3      |  Book Title 9 | 2014 |\n",
       "| 10 |      1      | Book Title 10 | 2013 |\n",
       "+----+-------------+---------------+------+"
      ]
     },
     "execution_count": 24,
     "metadata": {},
     "output_type": "execute_result"
    }
   ],
   "source": [
    "%%sql \n",
    "SELECT * FROM books ORDER BY year DESC;"
   ]
  },
  {
   "cell_type": "code",
   "execution_count": 25,
   "id": "029e115a-c1bb-401f-bd91-b748b1ff9343",
   "metadata": {
    "label": "select-group"
   },
   "outputs": [
    {
     "data": {
      "text/html": [
       "<span style=\"None\">Running query in &#x27;mysql://root@localhost/test&#x27;</span>"
      ],
      "text/plain": [
       "Running query in 'mysql://root@localhost/test'"
      ]
     },
     "metadata": {},
     "output_type": "display_data"
    },
    {
     "data": {
      "text/html": [
       "<span style=\"color: green\">4 rows affected.</span>"
      ],
      "text/plain": [
       "4 rows affected."
      ]
     },
     "metadata": {},
     "output_type": "display_data"
    },
    {
     "data": {
      "text/html": [
       "<table>\n",
       "    <thead>\n",
       "        <tr>\n",
       "            <th>category_id</th>\n",
       "            <th>book_count</th>\n",
       "        </tr>\n",
       "    </thead>\n",
       "    <tbody>\n",
       "        <tr>\n",
       "            <td>1</td>\n",
       "            <td>3</td>\n",
       "        </tr>\n",
       "        <tr>\n",
       "            <td>2</td>\n",
       "            <td>2</td>\n",
       "        </tr>\n",
       "        <tr>\n",
       "            <td>3</td>\n",
       "            <td>3</td>\n",
       "        </tr>\n",
       "        <tr>\n",
       "            <td>4</td>\n",
       "            <td>1</td>\n",
       "        </tr>\n",
       "    </tbody>\n",
       "</table>"
      ],
      "text/plain": [
       "+-------------+------------+\n",
       "| category_id | book_count |\n",
       "+-------------+------------+\n",
       "|      1      |     3      |\n",
       "|      2      |     2      |\n",
       "|      3      |     3      |\n",
       "|      4      |     1      |\n",
       "+-------------+------------+"
      ]
     },
     "execution_count": 25,
     "metadata": {},
     "output_type": "execute_result"
    }
   ],
   "source": [
    "%%sql \n",
    "SELECT category_id, COUNT(*) AS book_count FROM books\n",
    "GROUP BY category_id;"
   ]
  },
  {
   "cell_type": "code",
   "execution_count": 26,
   "id": "54d70fe0-25f3-4f2f-8017-dfa5f4944225",
   "metadata": {
    "editable": true,
    "label": "select-join",
    "slideshow": {
     "slide_type": ""
    },
    "tags": []
   },
   "outputs": [
    {
     "data": {
      "text/html": [
       "<span style=\"None\">Running query in &#x27;mysql://root@localhost/test&#x27;</span>"
      ],
      "text/plain": [
       "Running query in 'mysql://root@localhost/test'"
      ]
     },
     "metadata": {},
     "output_type": "display_data"
    },
    {
     "data": {
      "text/html": [
       "<span style=\"color: green\">8 rows affected.</span>"
      ],
      "text/plain": [
       "8 rows affected."
      ]
     },
     "metadata": {},
     "output_type": "display_data"
    },
    {
     "data": {
      "text/html": [
       "<table>\n",
       "    <thead>\n",
       "        <tr>\n",
       "            <th>book_id</th>\n",
       "            <th>book_title</th>\n",
       "            <th>year</th>\n",
       "            <th>author_id</th>\n",
       "            <th>author_name</th>\n",
       "            <th>category_id</th>\n",
       "            <th>category_name</th>\n",
       "        </tr>\n",
       "    </thead>\n",
       "    <tbody>\n",
       "        <tr>\n",
       "            <td>6</td>\n",
       "            <td>Book Title 6</td>\n",
       "            <td>2017</td>\n",
       "            <td>1</td>\n",
       "            <td>Author Name 1</td>\n",
       "            <td>3</td>\n",
       "            <td>Science Fiction</td>\n",
       "        </tr>\n",
       "        <tr>\n",
       "            <td>2</td>\n",
       "            <td>Book Title 2</td>\n",
       "            <td>2019</td>\n",
       "            <td>2</td>\n",
       "            <td>Author Name 2</td>\n",
       "            <td>4</td>\n",
       "            <td>Mystery</td>\n",
       "        </tr>\n",
       "        <tr>\n",
       "            <td>7</td>\n",
       "            <td>Book Title 7</td>\n",
       "            <td>2016</td>\n",
       "            <td>2</td>\n",
       "            <td>Author Name 2</td>\n",
       "            <td>1</td>\n",
       "            <td>Fiction</td>\n",
       "        </tr>\n",
       "        <tr>\n",
       "            <td>3</td>\n",
       "            <td>Book Title 3</td>\n",
       "            <td>2020</td>\n",
       "            <td>3</td>\n",
       "            <td>Author Name 3</td>\n",
       "            <td>1</td>\n",
       "            <td>Fiction</td>\n",
       "        </tr>\n",
       "        <tr>\n",
       "            <td>8</td>\n",
       "            <td>Book Title 8</td>\n",
       "            <td>2015</td>\n",
       "            <td>3</td>\n",
       "            <td>Author Name 3</td>\n",
       "            <td>2</td>\n",
       "            <td>Non-Fiction</td>\n",
       "        </tr>\n",
       "        <tr>\n",
       "            <td>4</td>\n",
       "            <td>Book Title 4</td>\n",
       "            <td>2021</td>\n",
       "            <td>4</td>\n",
       "            <td>Author Name 4</td>\n",
       "            <td>3</td>\n",
       "            <td>Science Fiction</td>\n",
       "        </tr>\n",
       "        <tr>\n",
       "            <td>9</td>\n",
       "            <td>Book Title 9</td>\n",
       "            <td>2014</td>\n",
       "            <td>4</td>\n",
       "            <td>Author Name 4</td>\n",
       "            <td>3</td>\n",
       "            <td>Science Fiction</td>\n",
       "        </tr>\n",
       "        <tr>\n",
       "            <td>5</td>\n",
       "            <td>Book Title 5</td>\n",
       "            <td>2018</td>\n",
       "            <td>5</td>\n",
       "            <td>Author Name 5</td>\n",
       "            <td>2</td>\n",
       "            <td>Non-Fiction</td>\n",
       "        </tr>\n",
       "    </tbody>\n",
       "</table>"
      ],
      "text/plain": [
       "+---------+--------------+------+-----------+---------------+-------------+-----------------+\n",
       "| book_id |  book_title  | year | author_id |  author_name  | category_id |  category_name  |\n",
       "+---------+--------------+------+-----------+---------------+-------------+-----------------+\n",
       "|    6    | Book Title 6 | 2017 |     1     | Author Name 1 |      3      | Science Fiction |\n",
       "|    2    | Book Title 2 | 2019 |     2     | Author Name 2 |      4      |     Mystery     |\n",
       "|    7    | Book Title 7 | 2016 |     2     | Author Name 2 |      1      |     Fiction     |\n",
       "|    3    | Book Title 3 | 2020 |     3     | Author Name 3 |      1      |     Fiction     |\n",
       "|    8    | Book Title 8 | 2015 |     3     | Author Name 3 |      2      |   Non-Fiction   |\n",
       "|    4    | Book Title 4 | 2021 |     4     | Author Name 4 |      3      | Science Fiction |\n",
       "|    9    | Book Title 9 | 2014 |     4     | Author Name 4 |      3      | Science Fiction |\n",
       "|    5    | Book Title 5 | 2018 |     5     | Author Name 5 |      2      |   Non-Fiction   |\n",
       "+---------+--------------+------+-----------+---------------+-------------+-----------------+"
      ]
     },
     "execution_count": 26,
     "metadata": {},
     "output_type": "execute_result"
    }
   ],
   "source": [
    "%%sql\n",
    "SELECT\n",
    "    books.id AS book_id,\n",
    "    books.title AS book_title,\n",
    "    books.year,\n",
    "    authors.id AS author_id,\n",
    "    authors.name AS author_name,\n",
    "    categories.id AS category_id,\n",
    "    categories.name AS category_name\n",
    "FROM\n",
    "    books\n",
    "JOIN\n",
    "    books_authors ON books.id = books_authors.book_id\n",
    "JOIN\n",
    "    authors ON books_authors.author_id = authors.id\n",
    "LEFT JOIN\n",
    "    categories ON books.category_id = categories.id;\n"
   ]
  }
 ],
 "metadata": {
  "kernelspec": {
   "display_name": "Python 3 (ipykernel)",
   "language": "python",
   "name": "python3"
  },
  "language_info": {
   "codemirror_mode": {
    "name": "ipython",
    "version": 3
   },
   "file_extension": ".py",
   "mimetype": "text/x-python",
   "name": "python",
   "nbconvert_exporter": "python",
   "pygments_lexer": "ipython3",
   "version": "3.11.5"
  },
  "toc": {
   "base_numbering": 22
  }
 },
 "nbformat": 4,
 "nbformat_minor": 5
}
