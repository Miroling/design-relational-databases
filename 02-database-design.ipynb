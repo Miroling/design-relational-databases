{
 "cells": [
  {
   "cell_type": "markdown",
   "id": "d5707f1a-c795-4cef-b2c3-d661edee6ca2",
   "metadata": {
    "editable": true,
    "slideshow": {
     "slide_type": "subslide"
    },
    "tags": []
   },
   "source": [
    "# Проектування БД\n",
    "\n",
    "## Типи баз даних\n",
    "\n",
    "### Реляційні\n",
    "\n",
    "## Розуміння нормальних форм"
   ]
  },
  {
   "cell_type": "code",
   "execution_count": 1,
   "id": "2bb02248-3415-4407-985e-1fbc95270872",
   "metadata": {},
   "outputs": [],
   "source": [
    "%load_ext sql\n",
    "%load_ext jupyter_ai\n",
    "import iplantuml"
   ]
  },
  {
   "cell_type": "code",
   "execution_count": 2,
   "id": "81d35810-2320-4b86-91c0-d3ce9fcb8a91",
   "metadata": {
    "vscode": {
     "languageId": "shellscript"
    }
   },
   "outputs": [
    {
     "name": "stdout",
     "output_type": "stream",
     "text": [
      "Picked up JAVA_TOOL_OPTIONS:  -Xmx3489m\n"
     ]
    },
    {
     "data": {
      "image/svg+xml": [
       "<svg xmlns=\"http://www.w3.org/2000/svg\" xmlns:xlink=\"http://www.w3.org/1999/xlink\" contentScriptType=\"application/ecmascript\" contentStyleType=\"text/css\" height=\"536px\" preserveAspectRatio=\"none\" style=\"width:563px;height:536px;\" version=\"1.1\" viewBox=\"0 0 563 536\" width=\"563px\" zoomAndPan=\"magnify\"><defs><filter height=\"300%\" id=\"ft8khyptdy9sy\" width=\"300%\" x=\"-1\" y=\"-1\"><feGaussianBlur result=\"blurOut\" stdDeviation=\"2.0\"/><feColorMatrix in=\"blurOut\" result=\"blurOut2\" type=\"matrix\" values=\"0 0 0 0 0 0 0 0 0 0 0 0 0 0 0 0 0 0 .4 0\"/><feOffset dx=\"4.0\" dy=\"4.0\" in=\"blurOut2\" result=\"blurOut3\"/><feBlend in=\"SourceGraphic\" in2=\"blurOut3\" mode=\"normal\"/></filter></defs><g><!--MD5=[2704dbe64761a25d9ab9623dde8d0f47]\n",
       "class Customers--><rect fill=\"#F8F8F8\" filter=\"url(#ft8khyptdy9sy)\" height=\"155.2422\" id=\"Customers\" style=\"stroke: #383838; stroke-width: 1.5;\" width=\"236\" x=\"6\" y=\"8\"/><ellipse cx=\"88.25\" cy=\"24\" fill=\"#F1F1F1\" rx=\"11\" ry=\"11\" style=\"stroke: #383838; stroke-width: 1.0;\"/><path d=\"M89.0938,30.75 L86.6406,30.75 L86.6406,20.5 L83.5,20.5 L83.5,18.3594 L92.2344,18.3594 L92.2344,20.5 L89.0938,20.5 L89.0938,30.75 Z \"/><text fill=\"#000000\" font-family=\"Courier\" font-size=\"12\" lengthAdjust=\"spacingAndGlyphs\" textLength=\"63\" x=\"108.75\" y=\"28.1543\">Customers</text><line style=\"stroke: #383838; stroke-width: 1.5;\" x1=\"7\" x2=\"241\" y1=\"40\" y2=\"40\"/><ellipse cx=\"17\" cy=\"51\" fill=\"none\" rx=\"3\" ry=\"3\" style=\"stroke: #545454; stroke-width: 1.0;\"/><text fill=\"#000000\" font-family=\"Courier\" font-size=\"11\" lengthAdjust=\"spacingAndGlyphs\" textLength=\"196\" x=\"26\" y=\"54.2104\">cust_id             char(10)</text><text fill=\"#000000\" font-family=\"Courier\" font-size=\"11\" lengthAdjust=\"spacingAndGlyphs\" textLength=\"196\" x=\"26\" y=\"67.0151\">cust_name           char(50)</text><text fill=\"#000000\" font-family=\"Courier\" font-size=\"11\" lengthAdjust=\"spacingAndGlyphs\" textLength=\"203\" x=\"26\" y=\"79.8198\">cust_address        ?char(50)</text><text fill=\"#000000\" font-family=\"Courier\" font-size=\"11\" lengthAdjust=\"spacingAndGlyphs\" textLength=\"203\" x=\"26\" y=\"92.6245\">cust_city           ?char(50)</text><text fill=\"#000000\" font-family=\"Courier\" font-size=\"11\" lengthAdjust=\"spacingAndGlyphs\" textLength=\"196\" x=\"26\" y=\"105.4292\">cust_state          ?char(5)</text><text fill=\"#000000\" font-family=\"Courier\" font-size=\"11\" lengthAdjust=\"spacingAndGlyphs\" textLength=\"203\" x=\"26\" y=\"118.2339\">cust_zip            ?char(10)</text><text fill=\"#000000\" font-family=\"Courier\" font-size=\"11\" lengthAdjust=\"spacingAndGlyphs\" textLength=\"203\" x=\"26\" y=\"131.0386\">cust_country        ?char(50)</text><text fill=\"#000000\" font-family=\"Courier\" font-size=\"11\" lengthAdjust=\"spacingAndGlyphs\" textLength=\"203\" x=\"26\" y=\"143.8433\">cust_contact        ?char(50)</text><text fill=\"#000000\" font-family=\"Courier\" font-size=\"11\" lengthAdjust=\"spacingAndGlyphs\" textLength=\"210\" x=\"26\" y=\"156.6479\">cust_email          ?char(255)</text><!--MD5=[ddcad61f0acb0b87c51c6273bc7ab3b2]\n",
       "class OrderItems--><rect fill=\"#F8F8F8\" filter=\"url(#ft8khyptdy9sy)\" height=\"104.0234\" id=\"OrderItems\" style=\"stroke: #383838; stroke-width: 1.5;\" width=\"194\" x=\"164\" y=\"421\"/><ellipse cx=\"221.75\" cy=\"437\" fill=\"#F1F1F1\" rx=\"11\" ry=\"11\" style=\"stroke: #383838; stroke-width: 1.0;\"/><path d=\"M222.5938,443.75 L220.1406,443.75 L220.1406,433.5 L217,433.5 L217,431.3594 L225.7344,431.3594 L225.7344,433.5 L222.5938,433.5 L222.5938,443.75 Z \"/><text fill=\"#000000\" font-family=\"Courier\" font-size=\"12\" lengthAdjust=\"spacingAndGlyphs\" textLength=\"70\" x=\"242.25\" y=\"441.1543\">OrderItems</text><line style=\"stroke: #383838; stroke-width: 1.5;\" x1=\"165\" x2=\"357\" y1=\"453\" y2=\"453\"/><ellipse cx=\"175\" cy=\"464\" fill=\"none\" rx=\"3\" ry=\"3\" style=\"stroke: #545454; stroke-width: 1.0;\"/><text fill=\"#000000\" font-family=\"Courier\" font-size=\"11\" lengthAdjust=\"spacingAndGlyphs\" textLength=\"105\" x=\"184\" y=\"467.2104\">order_num   int</text><ellipse cx=\"175\" cy=\"476.8047\" fill=\"none\" rx=\"3\" ry=\"3\" style=\"stroke: #545454; stroke-width: 1.0;\"/><text fill=\"#000000\" font-family=\"Courier\" font-size=\"11\" lengthAdjust=\"spacingAndGlyphs\" textLength=\"105\" x=\"184\" y=\"480.0151\">order_item  int</text><text fill=\"#000000\" font-family=\"Courier\" font-size=\"11\" lengthAdjust=\"spacingAndGlyphs\" textLength=\"140\" x=\"184\" y=\"492.8198\">prod_id     char(10)</text><text fill=\"#000000\" font-family=\"Courier\" font-size=\"11\" lengthAdjust=\"spacingAndGlyphs\" textLength=\"105\" x=\"184\" y=\"505.6245\">quantity    int</text><text fill=\"#000000\" font-family=\"Courier\" font-size=\"11\" lengthAdjust=\"spacingAndGlyphs\" textLength=\"168\" x=\"184\" y=\"518.4292\">item_price  decimal(8,2)</text><!--MD5=[3697c748582ba6ae2da7eb985750dc04]\n",
       "class Orders--><rect fill=\"#F8F8F8\" filter=\"url(#ft8khyptdy9sy)\" height=\"78.4141\" id=\"Orders\" style=\"stroke: #383838; stroke-width: 1.5;\" width=\"166\" x=\"58\" y=\"253\"/><ellipse cx=\"115.75\" cy=\"269\" fill=\"#F1F1F1\" rx=\"11\" ry=\"11\" style=\"stroke: #383838; stroke-width: 1.0;\"/><path d=\"M116.5938,275.75 L114.1406,275.75 L114.1406,265.5 L111,265.5 L111,263.3594 L119.7344,263.3594 L119.7344,265.5 L116.5938,265.5 L116.5938,275.75 Z \"/><text fill=\"#000000\" font-family=\"Courier\" font-size=\"12\" lengthAdjust=\"spacingAndGlyphs\" textLength=\"42\" x=\"136.25\" y=\"273.1543\">Orders</text><line style=\"stroke: #383838; stroke-width: 1.5;\" x1=\"59\" x2=\"223\" y1=\"285\" y2=\"285\"/><ellipse cx=\"69\" cy=\"296\" fill=\"none\" rx=\"3\" ry=\"3\" style=\"stroke: #545454; stroke-width: 1.0;\"/><text fill=\"#000000\" font-family=\"Courier\" font-size=\"11\" lengthAdjust=\"spacingAndGlyphs\" textLength=\"105\" x=\"78\" y=\"299.2104\">order_num   int</text><text fill=\"#000000\" font-family=\"Courier\" font-size=\"11\" lengthAdjust=\"spacingAndGlyphs\" textLength=\"140\" x=\"78\" y=\"312.0151\">order_date  datetime</text><text fill=\"#000000\" font-family=\"Courier\" font-size=\"11\" lengthAdjust=\"spacingAndGlyphs\" textLength=\"140\" x=\"78\" y=\"324.8198\">cust_id     char(10)</text><!--MD5=[13987a226768de931953646801a28d93]\n",
       "class Products--><rect fill=\"#F8F8F8\" filter=\"url(#ft8khyptdy9sy)\" height=\"104.0234\" id=\"Products\" style=\"stroke: #383838; stroke-width: 1.5;\" width=\"194\" x=\"291\" y=\"240\"/><ellipse cx=\"355.75\" cy=\"256\" fill=\"#F1F1F1\" rx=\"11\" ry=\"11\" style=\"stroke: #383838; stroke-width: 1.0;\"/><path d=\"M356.5938,262.75 L354.1406,262.75 L354.1406,252.5 L351,252.5 L351,250.3594 L359.7344,250.3594 L359.7344,252.5 L356.5938,252.5 L356.5938,262.75 Z \"/><text fill=\"#000000\" font-family=\"Courier\" font-size=\"12\" lengthAdjust=\"spacingAndGlyphs\" textLength=\"56\" x=\"376.25\" y=\"260.1543\">Products</text><line style=\"stroke: #383838; stroke-width: 1.5;\" x1=\"292\" x2=\"484\" y1=\"272\" y2=\"272\"/><ellipse cx=\"302\" cy=\"283\" fill=\"none\" rx=\"3\" ry=\"3\" style=\"stroke: #545454; stroke-width: 1.0;\"/><text fill=\"#000000\" font-family=\"Courier\" font-size=\"11\" lengthAdjust=\"spacingAndGlyphs\" textLength=\"140\" x=\"311\" y=\"286.2104\">prod_id     char(10)</text><text fill=\"#000000\" font-family=\"Courier\" font-size=\"11\" lengthAdjust=\"spacingAndGlyphs\" textLength=\"140\" x=\"311\" y=\"299.0151\">vend_id     char(10)</text><text fill=\"#000000\" font-family=\"Courier\" font-size=\"11\" lengthAdjust=\"spacingAndGlyphs\" textLength=\"147\" x=\"311\" y=\"311.8198\">prod_name   char(255)</text><text fill=\"#000000\" font-family=\"Courier\" font-size=\"11\" lengthAdjust=\"spacingAndGlyphs\" textLength=\"168\" x=\"311\" y=\"324.6245\">prod_price  decimal(8,2)</text><text fill=\"#000000\" font-family=\"Courier\" font-size=\"11\" lengthAdjust=\"spacingAndGlyphs\" textLength=\"119\" x=\"311\" y=\"337.4292\">prod_desc   ?text</text><!--MD5=[11639379ccfd660ca4ce7f06ee37278b]\n",
       "class Vendors--><rect fill=\"#F8F8F8\" filter=\"url(#ft8khyptdy9sy)\" height=\"129.6328\" id=\"Vendors\" style=\"stroke: #383838; stroke-width: 1.5;\" width=\"229\" x=\"277.5\" y=\"20.5\"/><ellipse cx=\"363.25\" cy=\"36.5\" fill=\"#F1F1F1\" rx=\"11\" ry=\"11\" style=\"stroke: #383838; stroke-width: 1.0;\"/><path d=\"M364.0938,43.25 L361.6406,43.25 L361.6406,33 L358.5,33 L358.5,30.8594 L367.2344,30.8594 L367.2344,33 L364.0938,33 L364.0938,43.25 Z \"/><text fill=\"#000000\" font-family=\"Courier\" font-size=\"12\" lengthAdjust=\"spacingAndGlyphs\" textLength=\"49\" x=\"383.75\" y=\"40.6543\">Vendors</text><line style=\"stroke: #383838; stroke-width: 1.5;\" x1=\"278.5\" x2=\"505.5\" y1=\"52.5\" y2=\"52.5\"/><ellipse cx=\"288.5\" cy=\"63.5\" fill=\"none\" rx=\"3\" ry=\"3\" style=\"stroke: #545454; stroke-width: 1.0;\"/><text fill=\"#000000\" font-family=\"Courier\" font-size=\"11\" lengthAdjust=\"spacingAndGlyphs\" textLength=\"196\" x=\"297.5\" y=\"66.7104\">vend_id             char(10)</text><text fill=\"#000000\" font-family=\"Courier\" font-size=\"11\" lengthAdjust=\"spacingAndGlyphs\" textLength=\"196\" x=\"297.5\" y=\"79.5151\">vend_name           char(50)</text><text fill=\"#000000\" font-family=\"Courier\" font-size=\"11\" lengthAdjust=\"spacingAndGlyphs\" textLength=\"203\" x=\"297.5\" y=\"92.3198\">vend_address        ?char(50)</text><text fill=\"#000000\" font-family=\"Courier\" font-size=\"11\" lengthAdjust=\"spacingAndGlyphs\" textLength=\"203\" x=\"297.5\" y=\"105.1245\">vend_city           ?char(50)</text><text fill=\"#000000\" font-family=\"Courier\" font-size=\"11\" lengthAdjust=\"spacingAndGlyphs\" textLength=\"196\" x=\"297.5\" y=\"117.9292\">vend_state          ?char(5)</text><text fill=\"#000000\" font-family=\"Courier\" font-size=\"11\" lengthAdjust=\"spacingAndGlyphs\" textLength=\"203\" x=\"297.5\" y=\"130.7339\">vend_zip            ?char(10)</text><text fill=\"#000000\" font-family=\"Courier\" font-size=\"11\" lengthAdjust=\"spacingAndGlyphs\" textLength=\"203\" x=\"297.5\" y=\"143.5386\">vend_country        ?char(50)</text><!--MD5=[02a79a244411b30df36de7bd12cc7b12]\n",
       "reverse link Orders to OrderItems--><path d=\"M136.84,336.01 C136.98,354.02 139.73,374.55 149,391 C155.24,402.08 163.7,412.05 173.19,420.88 \" fill=\"none\" id=\"Orders&lt;-OrderItems\" style=\"stroke: #383838; stroke-width: 1.0;\"/><polygon fill=\"#383838\" points=\"136.87,331,132.8186,339.977,136.8414,335.9999,140.8185,340.0227,136.87,331\" style=\"stroke: #383838; stroke-width: 1.0;\"/><text fill=\"#000000\" font-family=\"Courier\" font-size=\"13\" lengthAdjust=\"spacingAndGlyphs\" textLength=\"192\" x=\"150\" y=\"387.0669\">on order_num = order_num</text><!--MD5=[cf3421ecc5a3714e399b71ee689ad0e2]\n",
       "reverse link Products to OrderItems--><path d=\"M369.29,349.02 C363.27,363.33 355.82,378.26 347,391 C339.76,401.45 330.98,411.59 321.84,420.96 \" fill=\"none\" id=\"Products&lt;-OrderItems\" style=\"stroke: #383838; stroke-width: 1.0;\"/><polygon fill=\"#383838\" points=\"371.28,344.2,364.1366,350.9802,369.364,348.8183,371.5259,354.0458,371.28,344.2\" style=\"stroke: #383838; stroke-width: 1.0;\"/><text fill=\"#000000\" font-family=\"Courier\" font-size=\"13\" lengthAdjust=\"spacingAndGlyphs\" textLength=\"160\" x=\"358\" y=\"387.0669\">on prod_id = prod_id</text><!--MD5=[d4461d1b284fb6d302effda5fd901855]\n",
       "reverse link Customers to Orders--><path d=\"M130.8,168.28 C133.23,197.51 135.85,229.07 137.83,252.86 \" fill=\"none\" id=\"Customers&lt;-Orders\" style=\"stroke: #383838; stroke-width: 1.0;\"/><polygon fill=\"#383838\" points=\"130.38,163.23,127.139,172.5303,130.794,168.2128,135.1115,171.8679,130.38,163.23\" style=\"stroke: #383838; stroke-width: 1.0;\"/><text fill=\"#000000\" font-family=\"Courier\" font-size=\"13\" lengthAdjust=\"spacingAndGlyphs\" textLength=\"160\" x=\"136\" y=\"206.0669\">on cust_id = cust_id</text><!--MD5=[4dcc8f4b5f19c3c5744673e2d2a1e53e]\n",
       "reverse link Vendors to Products--><path d=\"M390.65,155.73 C390.11,183.23 389.5,214.3 389,239.71 \" fill=\"none\" id=\"Vendors&lt;-Products\" style=\"stroke: #383838; stroke-width: 1.0;\"/><polygon fill=\"#383838\" points=\"390.75,150.64,386.5708,159.5582,390.65,155.639,394.5692,159.7182,390.75,150.64\" style=\"stroke: #383838; stroke-width: 1.0;\"/><text fill=\"#000000\" font-family=\"Courier\" font-size=\"13\" lengthAdjust=\"spacingAndGlyphs\" textLength=\"160\" x=\"391\" y=\"206.0669\">on vend_id = vend_id</text><!--MD5=[20833adbfb53437eb708ac2dfecbf282]\n",
       "@startuml\n",
       "skinparam monochrome true\n",
       "skinparam defaultFontName Courier\n",
       "\n",
       "hide methods\n",
       "hide stereotypes\n",
       "\n",
       "\n",
       "class Customers << (T,#ffebf3) >> {\n",
       "    {field} +cust_id             char(10)\n",
       "    {field} cust_name           char(50)\n",
       "    {field} cust_address        ?char(50)\n",
       "    {field} cust_city           ?char(50)\n",
       "    {field} cust_state          ?char(5)\n",
       "    {field} cust_zip            ?char(10)\n",
       "    {field} cust_country        ?char(50)\n",
       "    {field} cust_contact        ?char(50)\n",
       "    {field} cust_email          ?char(255)\n",
       "}\n",
       "\n",
       "\n",
       "class OrderItems << (T,#ffebf3) >> {\n",
       "    {field} +order_num   int\n",
       "    {field} +order_item  int\n",
       "    {field} prod_id     char(10)\n",
       "    {field} quantity    int\n",
       "    {field} item_price  decimal(8,2)\n",
       "}\n",
       "\n",
       "Orders <- - OrderItems : on order_num = order_num\n",
       "Products <- - OrderItems : on prod_id = prod_id\n",
       "\n",
       "class Orders << (T,#ffebf3) >> {\n",
       "    {field} +order_num   int\n",
       "    {field} order_date  datetime\n",
       "    {field} cust_id     char(10)\n",
       "}\n",
       "\n",
       "Customers <- - Orders : on cust_id = cust_id\n",
       "\n",
       "class Products << (T,#ffebf3) >> {\n",
       "    {field} +prod_id     char(10)\n",
       "    {field} vend_id     char(10)\n",
       "    {field} prod_name   char(255)\n",
       "    {field} prod_price  decimal(8,2)\n",
       "    {field} prod_desc   ?text\n",
       "}\n",
       "\n",
       "Vendors <- - Products : on vend_id = vend_id\n",
       "\n",
       "class Vendors << (T,#ffebf3) >> {\n",
       "    {field} +vend_id             char(10)\n",
       "    {field} vend_name           char(50)\n",
       "    {field} vend_address        ?char(50)\n",
       "    {field} vend_city           ?char(50)\n",
       "    {field} vend_state          ?char(5)\n",
       "    {field} vend_zip            ?char(10)\n",
       "    {field} vend_country        ?char(50)\n",
       "}\n",
       "@enduml \n",
       "\n",
       "PlantUML version 1.2020.02(Sun Mar 01 10:22:07 UTC 2020)\n",
       "(GPL source distribution)\n",
       "Java Runtime: OpenJDK Runtime Environment\n",
       "JVM: OpenJDK 64-Bit Server VM\n",
       "Java Version: 11.0.20+8-LTS\n",
       "Operating System: Linux\n",
       "Default Encoding: UTF-8\n",
       "Language: en\n",
       "Country: US\n",
       "--></g></svg>"
      ],
      "text/plain": [
       "<IPython.core.display.SVG object>"
      ]
     },
     "execution_count": 2,
     "metadata": {},
     "output_type": "execute_result"
    }
   ],
   "source": [
    "%%plantuml --jar \n",
    "\n",
    "@startuml\n",
    "skinparam monochrome true\n",
    "skinparam defaultFontName Courier\n",
    "\n",
    "!define table(x) class x << (T,#ffebf3) >>\n",
    "hide methods\n",
    "hide stereotypes\n",
    "\n",
    "\n",
    "table(Customers) {\n",
    "    {field} +cust_id             char(10)\n",
    "    {field} cust_name           char(50)\n",
    "    {field} cust_address        ?char(50)\n",
    "    {field} cust_city           ?char(50)\n",
    "    {field} cust_state          ?char(5)\n",
    "    {field} cust_zip            ?char(10)\n",
    "    {field} cust_country        ?char(50)\n",
    "    {field} cust_contact        ?char(50)\n",
    "    {field} cust_email          ?char(255)\n",
    "}\n",
    "\n",
    "\n",
    "table(OrderItems) {\n",
    "    {field} +order_num   int\n",
    "    {field} +order_item  int\n",
    "    {field} prod_id     char(10)\n",
    "    {field} quantity    int\n",
    "    {field} item_price  decimal(8,2)\n",
    "}\n",
    "\n",
    "Orders <-- OrderItems : on order_num = order_num\n",
    "Products <-- OrderItems : on prod_id = prod_id\n",
    "\n",
    "table(Orders) {\n",
    "    {field} +order_num   int\n",
    "    {field} order_date  datetime\n",
    "    {field} cust_id     char(10)\n",
    "}\n",
    "\n",
    "Customers <-- Orders : on cust_id = cust_id\n",
    "\n",
    "table(Products) {\n",
    "    {field} +prod_id     char(10)\n",
    "    {field} vend_id     char(10)\n",
    "    {field} prod_name   char(255)\n",
    "    {field} prod_price  decimal(8,2)\n",
    "    {field} prod_desc   ?text\n",
    "}\n",
    "\n",
    "Vendors <-- Products : on vend_id = vend_id\n",
    "\n",
    "table(Vendors) {\n",
    "    {field} +vend_id             char(10)\n",
    "    {field} vend_name           char(50)\n",
    "    {field} vend_address        ?char(50)\n",
    "    {field} vend_city           ?char(50)\n",
    "    {field} vend_state          ?char(5)\n",
    "    {field} vend_zip            ?char(10)\n",
    "    {field} vend_country        ?char(50)\n",
    "}\n",
    "@enduml "
   ]
  },
  {
   "cell_type": "code",
   "execution_count": 3,
   "id": "bc817170-30ba-4e84-8ea9-9adbe43f5931",
   "metadata": {
    "vscode": {
     "languageId": "shellscript"
    }
   },
   "outputs": [
    {
     "data": {
      "text/html": [
       "<span style=\"None\">Connecting to &#x27;mysql://root@localhost&#x27;</span>"
      ],
      "text/plain": [
       "Connecting to 'mysql://root@localhost'"
      ]
     },
     "metadata": {},
     "output_type": "display_data"
    },
    {
     "data": {
      "text/html": [
       "<span style=\"color: green\">4 rows affected.</span>"
      ],
      "text/plain": [
       "4 rows affected."
      ]
     },
     "metadata": {},
     "output_type": "display_data"
    },
    {
     "data": {
      "text/html": [
       "<table>\n",
       "    <thead>\n",
       "        <tr>\n",
       "            <th>Database</th>\n",
       "        </tr>\n",
       "    </thead>\n",
       "    <tbody>\n",
       "        <tr>\n",
       "            <td>information_schema</td>\n",
       "        </tr>\n",
       "        <tr>\n",
       "            <td>mysql</td>\n",
       "        </tr>\n",
       "        <tr>\n",
       "            <td>performance_schema</td>\n",
       "        </tr>\n",
       "        <tr>\n",
       "            <td>sys</td>\n",
       "        </tr>\n",
       "    </tbody>\n",
       "</table>"
      ],
      "text/plain": [
       "+--------------------+\n",
       "|      Database      |\n",
       "+--------------------+\n",
       "| information_schema |\n",
       "|       mysql        |\n",
       "| performance_schema |\n",
       "|        sys         |\n",
       "+--------------------+"
      ]
     },
     "execution_count": 3,
     "metadata": {},
     "output_type": "execute_result"
    }
   ],
   "source": [
    "%%sql mysql://root@localhost\n",
    "SHOW DATABASES;"
   ]
  },
  {
   "cell_type": "code",
   "execution_count": 4,
   "id": "d299b808-da24-4c6c-9f8c-d59d199b9881",
   "metadata": {
    "vscode": {
     "languageId": "shellscript"
    }
   },
   "outputs": [
    {
     "data": {
      "text/html": [
       "<span style=\"None\">Running query in &#x27;mysql://root@localhost&#x27;</span>"
      ],
      "text/plain": [
       "Running query in 'mysql://root@localhost'"
      ]
     },
     "metadata": {},
     "output_type": "display_data"
    },
    {
     "data": {
      "text/html": [
       "<table>\n",
       "    <thead>\n",
       "        <tr>\n",
       "        </tr>\n",
       "    </thead>\n",
       "    <tbody>\n",
       "    </tbody>\n",
       "</table>"
      ],
      "text/plain": [
       "++\n",
       "||\n",
       "++\n",
       "++"
      ]
     },
     "execution_count": 4,
     "metadata": {},
     "output_type": "execute_result"
    }
   ],
   "source": [
    "%sql DROP DATABASE IF EXISTS test;"
   ]
  },
  {
   "cell_type": "code",
   "execution_count": 5,
   "id": "32916c0b-96ff-4e16-976b-13cc64eb3011",
   "metadata": {
    "vscode": {
     "languageId": "shellscript"
    }
   },
   "outputs": [
    {
     "data": {
      "text/html": [
       "<span style=\"None\">Running query in &#x27;mysql://root@localhost&#x27;</span>"
      ],
      "text/plain": [
       "Running query in 'mysql://root@localhost'"
      ]
     },
     "metadata": {},
     "output_type": "display_data"
    },
    {
     "data": {
      "text/html": [
       "<span style=\"color: green\">1 rows affected.</span>"
      ],
      "text/plain": [
       "1 rows affected."
      ]
     },
     "metadata": {},
     "output_type": "display_data"
    },
    {
     "data": {
      "text/html": [
       "<table>\n",
       "    <thead>\n",
       "        <tr>\n",
       "        </tr>\n",
       "    </thead>\n",
       "    <tbody>\n",
       "    </tbody>\n",
       "</table>"
      ],
      "text/plain": [
       "++\n",
       "||\n",
       "++\n",
       "++"
      ]
     },
     "execution_count": 5,
     "metadata": {},
     "output_type": "execute_result"
    }
   ],
   "source": [
    "%sql CREATE DATABASE test;"
   ]
  },
  {
   "cell_type": "code",
   "execution_count": 7,
   "id": "c7d523a2-991e-40a9-83f2-8a85382dca49",
   "metadata": {
    "vscode": {
     "languageId": "shellscript"
    }
   },
   "outputs": [
    {
     "data": {
      "text/html": [
       "<span style=\"None\">Running query in &#x27;mysql://root@localhost&#x27;</span>"
      ],
      "text/plain": [
       "Running query in 'mysql://root@localhost'"
      ]
     },
     "metadata": {},
     "output_type": "display_data"
    },
    {
     "data": {
      "text/html": [
       "<span style=\"color: green\">5 rows affected.</span>"
      ],
      "text/plain": [
       "5 rows affected."
      ]
     },
     "metadata": {},
     "output_type": "display_data"
    },
    {
     "data": {
      "text/html": [
       "<table>\n",
       "    <thead>\n",
       "        <tr>\n",
       "            <th>Database</th>\n",
       "        </tr>\n",
       "    </thead>\n",
       "    <tbody>\n",
       "        <tr>\n",
       "            <td>information_schema</td>\n",
       "        </tr>\n",
       "        <tr>\n",
       "            <td>mysql</td>\n",
       "        </tr>\n",
       "        <tr>\n",
       "            <td>performance_schema</td>\n",
       "        </tr>\n",
       "        <tr>\n",
       "            <td>sys</td>\n",
       "        </tr>\n",
       "        <tr>\n",
       "            <td>test</td>\n",
       "        </tr>\n",
       "    </tbody>\n",
       "</table>"
      ],
      "text/plain": [
       "+--------------------+\n",
       "|      Database      |\n",
       "+--------------------+\n",
       "| information_schema |\n",
       "|       mysql        |\n",
       "| performance_schema |\n",
       "|        sys         |\n",
       "|        test        |\n",
       "+--------------------+"
      ]
     },
     "execution_count": 7,
     "metadata": {},
     "output_type": "execute_result"
    }
   ],
   "source": [
    "%sql SHOW DATABASES;"
   ]
  },
  {
   "cell_type": "code",
   "execution_count": null,
   "id": "29decb07-66d6-459b-adae-c6bf3b3b7632",
   "metadata": {},
   "outputs": [],
   "source": []
  }
 ],
 "metadata": {
  "kernelspec": {
   "display_name": "Python 3 (ipykernel)",
   "language": "python",
   "name": "python3"
  },
  "language_info": {
   "codemirror_mode": {
    "name": "ipython",
    "version": 3
   },
   "file_extension": ".py",
   "mimetype": "text/x-python",
   "name": "python",
   "nbconvert_exporter": "python",
   "pygments_lexer": "ipython3",
   "version": "3.11.5"
  },
  "toc": {
   "base_numbering": 22
  }
 },
 "nbformat": 4,
 "nbformat_minor": 5
}
